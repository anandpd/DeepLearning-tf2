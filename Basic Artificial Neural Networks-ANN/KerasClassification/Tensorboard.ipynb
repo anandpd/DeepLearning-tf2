{
 "cells": [
  {
   "cell_type": "markdown",
   "metadata": {},
   "source": [
    "## Tensorboard"
   ]
  },
  {
   "cell_type": "code",
   "execution_count": 1,
   "metadata": {},
   "outputs": [],
   "source": [
    "import pandas as pd\n",
    "import numpy as np"
   ]
  },
  {
   "cell_type": "code",
   "execution_count": 2,
   "metadata": {},
   "outputs": [],
   "source": [
    "df = pd.read_csv('cancer_classification.csv')"
   ]
  },
  {
   "cell_type": "markdown",
   "metadata": {},
   "source": [
    "### Train Test Split"
   ]
  },
  {
   "cell_type": "code",
   "execution_count": 3,
   "metadata": {},
   "outputs": [],
   "source": [
    "X = df.drop('benign_0__mal_1',axis=1).values\n",
    "y = df['benign_0__mal_1'].values"
   ]
  },
  {
   "cell_type": "code",
   "execution_count": 4,
   "metadata": {},
   "outputs": [],
   "source": [
    "from sklearn.model_selection import train_test_split"
   ]
  },
  {
   "cell_type": "code",
   "execution_count": 5,
   "metadata": {},
   "outputs": [],
   "source": [
    "X_train, X_test, y_train, y_test = train_test_split(X,y,test_size=0.25,random_state=101)"
   ]
  },
  {
   "cell_type": "markdown",
   "metadata": {},
   "source": [
    "\n",
    "### Scaling Data"
   ]
  },
  {
   "cell_type": "code",
   "execution_count": 6,
   "metadata": {},
   "outputs": [],
   "source": [
    "from sklearn.preprocessing import MinMaxScaler"
   ]
  },
  {
   "cell_type": "code",
   "execution_count": 7,
   "metadata": {},
   "outputs": [],
   "source": [
    "scaler = MinMaxScaler()"
   ]
  },
  {
   "cell_type": "code",
   "execution_count": 8,
   "metadata": {},
   "outputs": [
    {
     "output_type": "execute_result",
     "data": {
      "text/plain": "MinMaxScaler()"
     },
     "metadata": {},
     "execution_count": 8
    }
   ],
   "source": [
    "scaler.fit(X_train)"
   ]
  },
  {
   "cell_type": "code",
   "execution_count": 9,
   "metadata": {},
   "outputs": [],
   "source": [
    "X_train = scaler.transform(X_train)\n",
    "X_test = scaler.transform(X_test)"
   ]
  },
  {
   "cell_type": "markdown",
   "metadata": {},
   "source": [
    "## Creating the Model"
   ]
  },
  {
   "cell_type": "code",
   "execution_count": 10,
   "metadata": {},
   "outputs": [],
   "source": [
    "import tensorflow as tf\n",
    "from tensorflow.keras.models import Sequential\n",
    "from tensorflow.keras.layers import Dense, Activation,Dropout"
   ]
  },
  {
   "cell_type": "code",
   "execution_count": 11,
   "metadata": {},
   "outputs": [],
   "source": [
    "from tensorflow.keras.callbacks import EarlyStopping,TensorBoard"
   ]
  },
  {
   "cell_type": "code",
   "execution_count": 12,
   "metadata": {},
   "outputs": [],
   "source": [
    "early_stop = EarlyStopping(monitor='val_loss', mode='min', verbose=1, patience=25)"
   ]
  },
  {
   "cell_type": "code",
   "execution_count": 13,
   "metadata": {},
   "outputs": [
    {
     "output_type": "execute_result",
     "data": {
      "text/plain": "'e:\\\\Deep Learning\\\\ANN\\\\KerasClassification'"
     },
     "metadata": {},
     "execution_count": 13
    }
   ],
   "source": [
    "pwd"
   ]
  },
  {
   "cell_type": "markdown",
   "metadata": {},
   "source": [
    "## Creating the Tensorboard Callback\n",
    "\n",
    "TensorBoard is a visualization tool provided with TensorFlow.\n",
    "\n",
    "This callback logs events for TensorBoard, including:\n",
    "* Metrics summary plots\n",
    "* Training graph visualization\n",
    "* Activation histograms\n",
    "* Sampled profiling\n",
    "\n",
    "If you have installed TensorFlow with pip, you should be able\n",
    "to launch TensorBoard from the command line:\n",
    "\n",
    "```sh\n",
    "tensorboard --logdir=path_to_your_logs\n",
    "```\n",
    "\n",
    "You can find more information about TensorBoard\n",
    "[here](https://www.tensorflow.org/tensorboard/).\n",
    "\n",
    "    Arguments:\n",
    "        log_dir: the path of the directory where to save the log files to be\n",
    "          parsed by TensorBoard.\n",
    "        histogram_freq: frequency (in epochs) at which to compute activation and\n",
    "          weight histograms for the layers of the model. If set to 0, histograms\n",
    "          won't be computed. Validation data (or split) must be specified for\n",
    "          histogram visualizations.\n",
    "        write_graph: whether to visualize the graph in TensorBoard. The log file\n",
    "          can become quite large when write_graph is set to True.\n",
    "        write_images: whether to write model weights to visualize as image in\n",
    "          TensorBoard.\n",
    "        update_freq: `'batch'` or `'epoch'` or integer. When using `'batch'`,\n",
    "          writes the losses and metrics to TensorBoard after each batch. The same\n",
    "          applies for `'epoch'`. If using an integer, let's say `1000`, the\n",
    "          callback will write the metrics and losses to TensorBoard every 1000\n",
    "          samples. Note that writing too frequently to TensorBoard can slow down\n",
    "          your training.\n",
    "        profile_batch: Profile the batch to sample compute characteristics. By\n",
    "          default, it will profile the second batch. Set profile_batch=0 to\n",
    "          disable profiling. Must run in TensorFlow eager mode.\n",
    "        embeddings_freq: frequency (in epochs) at which embedding layers will\n",
    "          be visualized. If set to 0, embeddings won't be visualized.\n",
    "       "
   ]
  },
  {
   "cell_type": "code",
   "execution_count": 14,
   "metadata": {},
   "outputs": [],
   "source": [
    "from datetime import datetime"
   ]
  },
  {
   "cell_type": "code",
   "execution_count": 15,
   "metadata": {},
   "outputs": [
    {
     "data": {
      "text/plain": [
       "'2019-11-14--1910'"
      ]
     },
     "execution_count": 15,
     "metadata": {},
     "output_type": "execute_result"
    }
   ],
   "source": [
    "datetime.now().strftime(\"%Y-%m-%d--%H%M\")"
   ]
  },
  {
   "cell_type": "code",
   "execution_count": 14,
   "metadata": {},
   "outputs": [],
   "source": [
    "log_directory = 'logs\\\\fit'\n",
    "\n",
    "board = TensorBoard(log_dir=log_directory,histogram_freq=1,\n",
    "                    write_graph=True,\n",
    "                    write_images=True,\n",
    "                    update_freq='epoch',\n",
    "                    profile_batch=2,\n",
    "                    embeddings_freq=1)"
   ]
  },
  {
   "cell_type": "markdown",
   "metadata": {},
   "source": [
    "Now create the model layers:"
   ]
  },
  {
   "cell_type": "code",
   "execution_count": 15,
   "metadata": {},
   "outputs": [],
   "source": [
    "model = Sequential()\n",
    "model.add(Dense(units=30,activation='relu'))\n",
    "model.add(Dropout(0.5))\n",
    "model.add(Dense(units=15,activation='relu'))\n",
    "model.add(Dropout(0.5))\n",
    "model.add(Dense(units=1,activation='sigmoid'))\n",
    "model.compile(loss='binary_crossentropy', optimizer='adam')"
   ]
  },
  {
   "cell_type": "markdown",
   "metadata": {},
   "source": [
    "## Train the Model"
   ]
  },
  {
   "cell_type": "code",
   "execution_count": 16,
   "metadata": {
    "tags": []
   },
   "outputs": [
    {
     "output_type": "stream",
     "name": "stdout",
     "text": "Train on 426 samples, validate on 143 samples\nEpoch 1/600\n 32/426 [=>............................] - ETA: 25s - loss: 0.7192WARNING:tensorflow:Method (on_train_batch_end) is slow compared to the batch update (0.136565). Check your callbacks.\n426/426 [==============================] - 3s 7ms/sample - loss: 0.7033 - val_loss: 0.6631\nEpoch 2/600\n426/426 [==============================] - 0s 1ms/sample - loss: 0.6695 - val_loss: 0.6358\nEpoch 3/600\n426/426 [==============================] - 0s 672us/sample - loss: 0.6512 - val_loss: 0.6095\nEpoch 4/600\n426/426 [==============================] - 0s 993us/sample - loss: 0.6283 - val_loss: 0.5871\nEpoch 5/600\n426/426 [==============================] - 0s 936us/sample - loss: 0.5977 - val_loss: 0.5575\nEpoch 6/600\n426/426 [==============================] - 0s 691us/sample - loss: 0.5729 - val_loss: 0.5307\nEpoch 7/600\n426/426 [==============================] - 0s 774us/sample - loss: 0.5651 - val_loss: 0.5140\nEpoch 8/600\n426/426 [==============================] - 0s 679us/sample - loss: 0.5511 - val_loss: 0.4812\nEpoch 9/600\n426/426 [==============================] - 0s 864us/sample - loss: 0.5201 - val_loss: 0.4548\nEpoch 10/600\n426/426 [==============================] - 0s 706us/sample - loss: 0.4977 - val_loss: 0.4309\nEpoch 11/600\n426/426 [==============================] - 1s 3ms/sample - loss: 0.4966 - val_loss: 0.4059\nEpoch 12/600\n426/426 [==============================] - 0s 706us/sample - loss: 0.4373 - val_loss: 0.3750\nEpoch 13/600\n426/426 [==============================] - 0s 546us/sample - loss: 0.4287 - val_loss: 0.3510\nEpoch 14/600\n426/426 [==============================] - 0s 547us/sample - loss: 0.4235 - val_loss: 0.3304\nEpoch 15/600\n426/426 [==============================] - 0s 626us/sample - loss: 0.4191 - val_loss: 0.3125\nEpoch 16/600\n426/426 [==============================] - 0s 611us/sample - loss: 0.4267 - val_loss: 0.3033\nEpoch 17/600\n426/426 [==============================] - 0s 564us/sample - loss: 0.3666 - val_loss: 0.2909\nEpoch 18/600\n426/426 [==============================] - 0s 538us/sample - loss: 0.3760 - val_loss: 0.2682\nEpoch 19/600\n426/426 [==============================] - 0s 635us/sample - loss: 0.3473 - val_loss: 0.2527\nEpoch 20/600\n426/426 [==============================] - 0s 616us/sample - loss: 0.3440 - val_loss: 0.2410\nEpoch 21/600\n426/426 [==============================] - 0s 597us/sample - loss: 0.3297 - val_loss: 0.2297\nEpoch 22/600\n426/426 [==============================] - 0s 588us/sample - loss: 0.3383 - val_loss: 0.2189\nEpoch 23/600\n426/426 [==============================] - 0s 600us/sample - loss: 0.2927 - val_loss: 0.2084\nEpoch 24/600\n426/426 [==============================] - 0s 609us/sample - loss: 0.2886 - val_loss: 0.1972\nEpoch 25/600\n426/426 [==============================] - 0s 588us/sample - loss: 0.2980 - val_loss: 0.1935\nEpoch 26/600\n426/426 [==============================] - 0s 599us/sample - loss: 0.2569 - val_loss: 0.1848\nEpoch 27/600\n426/426 [==============================] - 1s 3ms/sample - loss: 0.2823 - val_loss: 0.1830\nEpoch 28/600\n426/426 [==============================] - 0s 846us/sample - loss: 0.2741 - val_loss: 0.1804\nEpoch 29/600\n426/426 [==============================] - 0s 612us/sample - loss: 0.2462 - val_loss: 0.1755\nEpoch 30/600\n426/426 [==============================] - 0s 641us/sample - loss: 0.2606 - val_loss: 0.1640\nEpoch 31/600\n426/426 [==============================] - 0s 564us/sample - loss: 0.2633 - val_loss: 0.1658\nEpoch 32/600\n426/426 [==============================] - 0s 627us/sample - loss: 0.2686 - val_loss: 0.1607\nEpoch 33/600\n426/426 [==============================] - 0s 598us/sample - loss: 0.2306 - val_loss: 0.1596\nEpoch 34/600\n426/426 [==============================] - 0s 602us/sample - loss: 0.2399 - val_loss: 0.1577\nEpoch 35/600\n426/426 [==============================] - 0s 623us/sample - loss: 0.2103 - val_loss: 0.1555\nEpoch 36/600\n426/426 [==============================] - 0s 592us/sample - loss: 0.2116 - val_loss: 0.1381\nEpoch 37/600\n426/426 [==============================] - 0s 732us/sample - loss: 0.2229 - val_loss: 0.1367\nEpoch 38/600\n426/426 [==============================] - 0s 595us/sample - loss: 0.2074 - val_loss: 0.1322\nEpoch 39/600\n426/426 [==============================] - 0s 576us/sample - loss: 0.2203 - val_loss: 0.1323\nEpoch 40/600\n426/426 [==============================] - 0s 599us/sample - loss: 0.2059 - val_loss: 0.1299\nEpoch 41/600\n426/426 [==============================] - 1s 3ms/sample - loss: 0.1973 - val_loss: 0.1318\nEpoch 42/600\n426/426 [==============================] - 0s 818us/sample - loss: 0.1980 - val_loss: 0.1303\nEpoch 43/600\n426/426 [==============================] - 0s 595us/sample - loss: 0.1895 - val_loss: 0.1259\nEpoch 44/600\n426/426 [==============================] - 0s 792us/sample - loss: 0.1824 - val_loss: 0.1240\nEpoch 45/600\n426/426 [==============================] - 0s 652us/sample - loss: 0.1967 - val_loss: 0.1215\nEpoch 46/600\n426/426 [==============================] - 0s 569us/sample - loss: 0.1703 - val_loss: 0.1209\nEpoch 47/600\n426/426 [==============================] - 0s 627us/sample - loss: 0.1815 - val_loss: 0.1255\nEpoch 48/600\n426/426 [==============================] - 0s 614us/sample - loss: 0.1690 - val_loss: 0.1150\nEpoch 49/600\n426/426 [==============================] - 0s 798us/sample - loss: 0.1846 - val_loss: 0.1138\nEpoch 50/600\n426/426 [==============================] - 0s 547us/sample - loss: 0.1720 - val_loss: 0.1117\nEpoch 51/600\n426/426 [==============================] - 0s 730us/sample - loss: 0.1826 - val_loss: 0.1180\nEpoch 52/600\n426/426 [==============================] - 0s 574us/sample - loss: 0.1762 - val_loss: 0.1150\nEpoch 53/600\n426/426 [==============================] - 0s 867us/sample - loss: 0.1721 - val_loss: 0.1183\nEpoch 54/600\n426/426 [==============================] - 1s 2ms/sample - loss: 0.1719 - val_loss: 0.1085\nEpoch 55/600\n426/426 [==============================] - 0s 803us/sample - loss: 0.1742 - val_loss: 0.1121\nEpoch 56/600\n426/426 [==============================] - 0s 546us/sample - loss: 0.1623 - val_loss: 0.1099\nEpoch 57/600\n426/426 [==============================] - 0s 742us/sample - loss: 0.1518 - val_loss: 0.1053\nEpoch 58/600\n426/426 [==============================] - 0s 568us/sample - loss: 0.1579 - val_loss: 0.1046\nEpoch 59/600\n426/426 [==============================] - 0s 616us/sample - loss: 0.1404 - val_loss: 0.1003\nEpoch 60/600\n426/426 [==============================] - 0s 614us/sample - loss: 0.1263 - val_loss: 0.1045\nEpoch 61/600\n426/426 [==============================] - 0s 598us/sample - loss: 0.1392 - val_loss: 0.1002\nEpoch 62/600\n426/426 [==============================] - 0s 617us/sample - loss: 0.1475 - val_loss: 0.0996\nEpoch 63/600\n426/426 [==============================] - 0s 643us/sample - loss: 0.1466 - val_loss: 0.0989\nEpoch 64/600\n426/426 [==============================] - 0s 520us/sample - loss: 0.1434 - val_loss: 0.1094\nEpoch 65/600\n426/426 [==============================] - 0s 628us/sample - loss: 0.1347 - val_loss: 0.0997\nEpoch 66/600\n426/426 [==============================] - 0s 759us/sample - loss: 0.1521 - val_loss: 0.0982\nEpoch 67/600\n426/426 [==============================] - 1s 1ms/sample - loss: 0.1485 - val_loss: 0.1020\nEpoch 68/600\n426/426 [==============================] - 1s 2ms/sample - loss: 0.1229 - val_loss: 0.1006\nEpoch 69/600\n426/426 [==============================] - 0s 574us/sample - loss: 0.1262 - val_loss: 0.1056\nEpoch 70/600\n426/426 [==============================] - 0s 649us/sample - loss: 0.1550 - val_loss: 0.1110\nEpoch 71/600\n426/426 [==============================] - 0s 562us/sample - loss: 0.1071 - val_loss: 0.0939\nEpoch 72/600\n426/426 [==============================] - 0s 574us/sample - loss: 0.1494 - val_loss: 0.0953\nEpoch 73/600\n426/426 [==============================] - 0s 642us/sample - loss: 0.1066 - val_loss: 0.0993\nEpoch 74/600\n426/426 [==============================] - 0s 588us/sample - loss: 0.1129 - val_loss: 0.0943\nEpoch 75/600\n426/426 [==============================] - 0s 648us/sample - loss: 0.1221 - val_loss: 0.1021\nEpoch 76/600\n426/426 [==============================] - 0s 629us/sample - loss: 0.1347 - val_loss: 0.1032\nEpoch 77/600\n426/426 [==============================] - 0s 730us/sample - loss: 0.1290 - val_loss: 0.0933\nEpoch 78/600\n426/426 [==============================] - 0s 681us/sample - loss: 0.1177 - val_loss: 0.0900\nEpoch 79/600\n426/426 [==============================] - 1s 2ms/sample - loss: 0.1269 - val_loss: 0.0895\nEpoch 80/600\n426/426 [==============================] - 0s 564us/sample - loss: 0.1248 - val_loss: 0.0983\nEpoch 81/600\n426/426 [==============================] - 0s 625us/sample - loss: 0.1129 - val_loss: 0.0925\nEpoch 82/600\n426/426 [==============================] - 0s 667us/sample - loss: 0.1240 - val_loss: 0.0887\nEpoch 83/600\n426/426 [==============================] - 0s 727us/sample - loss: 0.1291 - val_loss: 0.1054\nEpoch 84/600\n426/426 [==============================] - 0s 626us/sample - loss: 0.1165 - val_loss: 0.1025\nEpoch 85/600\n426/426 [==============================] - 0s 627us/sample - loss: 0.1043 - val_loss: 0.0874\nEpoch 86/600\n426/426 [==============================] - 0s 836us/sample - loss: 0.1119 - val_loss: 0.0945\nEpoch 87/600\n426/426 [==============================] - 1s 1ms/sample - loss: 0.1152 - val_loss: 0.0953\nEpoch 88/600\n426/426 [==============================] - 1s 2ms/sample - loss: 0.1186 - val_loss: 0.0932\nEpoch 89/600\n426/426 [==============================] - 1s 2ms/sample - loss: 0.0960 - val_loss: 0.0918\nEpoch 90/600\n426/426 [==============================] - 1s 3ms/sample - loss: 0.1349 - val_loss: 0.0901\nEpoch 91/600\n426/426 [==============================] - 0s 658us/sample - loss: 0.1075 - val_loss: 0.0913\nEpoch 92/600\n426/426 [==============================] - 0s 577us/sample - loss: 0.1080 - val_loss: 0.0883\nEpoch 93/600\n426/426 [==============================] - 0s 586us/sample - loss: 0.1111 - val_loss: 0.1003\nEpoch 94/600\n426/426 [==============================] - 0s 587us/sample - loss: 0.1187 - val_loss: 0.0905\nEpoch 95/600\n426/426 [==============================] - 0s 571us/sample - loss: 0.1003 - val_loss: 0.0966\nEpoch 96/600\n426/426 [==============================] - 0s 642us/sample - loss: 0.1210 - val_loss: 0.0973\nEpoch 97/600\n426/426 [==============================] - 0s 630us/sample - loss: 0.1152 - val_loss: 0.0880\nEpoch 98/600\n426/426 [==============================] - 0s 628us/sample - loss: 0.1018 - val_loss: 0.0887\nEpoch 99/600\n426/426 [==============================] - 0s 1ms/sample - loss: 0.1027 - val_loss: 0.0886\nEpoch 100/600\n426/426 [==============================] - 0s 955us/sample - loss: 0.0969 - val_loss: 0.0920\nEpoch 101/600\n426/426 [==============================] - 0s 1ms/sample - loss: 0.1091 - val_loss: 0.0853\nEpoch 102/600\n426/426 [==============================] - 1s 3ms/sample - loss: 0.1268 - val_loss: 0.0887\nEpoch 103/600\n426/426 [==============================] - 0s 720us/sample - loss: 0.1123 - val_loss: 0.0852\nEpoch 104/600\n426/426 [==============================] - 0s 653us/sample - loss: 0.0955 - val_loss: 0.0914\nEpoch 105/600\n426/426 [==============================] - 1s 1ms/sample - loss: 0.1077 - val_loss: 0.0888\nEpoch 106/600\n426/426 [==============================] - 0s 836us/sample - loss: 0.0986 - val_loss: 0.0916\nEpoch 107/600\n426/426 [==============================] - 0s 856us/sample - loss: 0.1026 - val_loss: 0.0954\nEpoch 108/600\n426/426 [==============================] - 0s 1ms/sample - loss: 0.1187 - val_loss: 0.0869\nEpoch 109/600\n426/426 [==============================] - 0s 690us/sample - loss: 0.1143 - val_loss: 0.1018\nEpoch 110/600\n426/426 [==============================] - 0s 747us/sample - loss: 0.0966 - val_loss: 0.0885\nEpoch 111/600\n426/426 [==============================] - 0s 642us/sample - loss: 0.0986 - val_loss: 0.0880\nEpoch 112/600\n426/426 [==============================] - 0s 752us/sample - loss: 0.1076 - val_loss: 0.0838\nEpoch 113/600\n426/426 [==============================] - 0s 915us/sample - loss: 0.1097 - val_loss: 0.0865\nEpoch 114/600\n426/426 [==============================] - 1s 2ms/sample - loss: 0.1110 - val_loss: 0.0883\nEpoch 115/600\n426/426 [==============================] - 0s 654us/sample - loss: 0.0907 - val_loss: 0.0873\nEpoch 116/600\n426/426 [==============================] - 0s 655us/sample - loss: 0.0895 - val_loss: 0.0862\nEpoch 117/600\n426/426 [==============================] - 0s 720us/sample - loss: 0.1040 - val_loss: 0.1156\nEpoch 118/600\n426/426 [==============================] - 0s 593us/sample - loss: 0.0939 - val_loss: 0.0925\nEpoch 119/600\n426/426 [==============================] - 0s 638us/sample - loss: 0.0908 - val_loss: 0.0897\nEpoch 120/600\n426/426 [==============================] - 0s 697us/sample - loss: 0.0990 - val_loss: 0.0984\nEpoch 121/600\n426/426 [==============================] - 0s 641us/sample - loss: 0.1040 - val_loss: 0.0901\nEpoch 122/600\n426/426 [==============================] - 0s 796us/sample - loss: 0.0877 - val_loss: 0.0852\nEpoch 123/600\n426/426 [==============================] - 0s 776us/sample - loss: 0.1053 - val_loss: 0.0869\nEpoch 124/600\n426/426 [==============================] - 1s 3ms/sample - loss: 0.1027 - val_loss: 0.0889\nEpoch 125/600\n426/426 [==============================] - 0s 599us/sample - loss: 0.0798 - val_loss: 0.0866\nEpoch 126/600\n426/426 [==============================] - 0s 603us/sample - loss: 0.0985 - val_loss: 0.1080\nEpoch 127/600\n426/426 [==============================] - 0s 649us/sample - loss: 0.0920 - val_loss: 0.0911\nEpoch 128/600\n426/426 [==============================] - 0s 601us/sample - loss: 0.0955 - val_loss: 0.0950\nEpoch 129/600\n426/426 [==============================] - 0s 577us/sample - loss: 0.0769 - val_loss: 0.0981\nEpoch 130/600\n426/426 [==============================] - 0s 602us/sample - loss: 0.0889 - val_loss: 0.0938\nEpoch 131/600\n426/426 [==============================] - 0s 654us/sample - loss: 0.0997 - val_loss: 0.0915\nEpoch 132/600\n426/426 [==============================] - 1s 2ms/sample - loss: 0.0694 - val_loss: 0.1038\nEpoch 133/600\n426/426 [==============================] - 1s 2ms/sample - loss: 0.0949 - val_loss: 0.0885\nEpoch 134/600\n426/426 [==============================] - 1s 2ms/sample - loss: 0.0768 - val_loss: 0.0876\nEpoch 135/600\n426/426 [==============================] - 1s 3ms/sample - loss: 0.0914 - val_loss: 0.0905\nEpoch 136/600\n426/426 [==============================] - 0s 651us/sample - loss: 0.0981 - val_loss: 0.1135\nEpoch 137/600\n426/426 [==============================] - 0s 876us/sample - loss: 0.0961 - val_loss: 0.0986\nEpoch 00137: early stopping\n"
    },
    {
     "output_type": "execute_result",
     "data": {
      "text/plain": "<tensorflow.python.keras.callbacks.History at 0x21528027c88>"
     },
     "metadata": {},
     "execution_count": 16
    }
   ],
   "source": [
    "model.fit(x=X_train, \n",
    "          y=y_train, \n",
    "          epochs=600,\n",
    "          validation_data=(X_test, y_test), verbose=1,\n",
    "          callbacks=\n",
    "          [ early_stop,board ]\n",
    "          )"
   ]
  },
  {
   "cell_type": "markdown",
   "metadata": {},
   "source": [
    "# Running Tensorboard\n"
   ]
  },
  {
   "cell_type": "markdown",
   "metadata": {},
   "source": [
    "## Running through the Command Line\n",
    "\n",
    "**Watch video to see how to run Tensorboard through a command line call.**"
   ]
  },
  {
   "cell_type": "markdown",
   "metadata": {},
   "source": [
    "Tensorboard will run locally in your browser at [http://localhost:6006/](http://localhost:6006/)\n"
   ]
  },
  {
   "cell_type": "code",
   "execution_count": 17,
   "metadata": {
    "tags": []
   },
   "outputs": [
    {
     "output_type": "stream",
     "name": "stdout",
     "text": "logs\\fit\n"
    }
   ],
   "source": [
    "print(log_directory)"
   ]
  },
  {
   "cell_type": "code",
   "execution_count": 18,
   "metadata": {},
   "outputs": [
    {
     "output_type": "execute_result",
     "data": {
      "text/plain": "'e:\\\\Deep Learning\\\\ANN\\\\KerasClassification'"
     },
     "metadata": {},
     "execution_count": 18
    }
   ],
   "source": [
    "pwd"
   ]
  },
  {
   "cell_type": "markdown",
   "metadata": {},
   "source": [
    "### Use cd at your command line to change directory to the file path reported back by pwd or your current .py file location.\n",
    "### Then run this code at your command line or terminal"
   ]
  },
  {
   "cell_type": "code",
   "execution_count": null,
   "metadata": {},
   "outputs": [],
   "source": [
    "tensorboard --logdir logs\\fit "
   ]
  }
 ],
 "metadata": {
  "kernelspec": {
   "display_name": "Python 3.7.7 64-bit ('tf2': conda)",
   "language": "python",
   "name": "python37764bittf2conda2bc39520af7146cb9486fbfa24cffc16"
  },
  "language_info": {
   "codemirror_mode": {
    "name": "ipython",
    "version": 3
   },
   "file_extension": ".py",
   "mimetype": "text/x-python",
   "name": "python",
   "nbconvert_exporter": "python",
   "pygments_lexer": "ipython3",
   "version": "3.7.7-final"
  }
 },
 "nbformat": 4,
 "nbformat_minor": 2
}